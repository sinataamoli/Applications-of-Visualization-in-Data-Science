{
 "cells": [
  {
   "cell_type": "markdown",
   "id": "a853cb37",
   "metadata": {},
   "source": [
    "# ===================================\n",
    "# **Applications of Visualization in Data Science**\n",
    "## Fall 2023\n",
    "## Week 1\n",
    "### Instructor: **Prof. Bahram Mobasher**\n",
    "### Teaching Assistant: Sina Taamoli [**Course Github Page**](https://github.com/sinataamoli/Applications-of-Visualization-in-Data-Science)\n",
    "# ==================================="
   ]
  },
  {
   "cell_type": "markdown",
   "id": "1c8fd0e2",
   "metadata": {},
   "source": [
    "## Python Libraries for visualization\n",
    "\n",
    "#### 1- [Matplotlib](https://matplotlib.org/stable/index.html)\n",
    "#### 2- [vispy](https://vispy.org)\n",
    "#### 3- [bokeh](https://docs.bokeh.org/en/latest/)\n",
    "#### 4- [seaborn](https://seaborn.pydata.org/)\n",
    "#### 5- [pygal](https://www.pygal.org/en/stable/documentation/index.html)\n",
    "#### 6- [folium](https://python-visualization.github.io/folium/latest/)\n",
    "#### 7- [networkx](https://networkx.org/documentation/stable/reference/index.html)"
   ]
  },
  {
   "cell_type": "markdown",
   "id": "cce62af8",
   "metadata": {},
   "source": [
    "## 1. Matplotlib"
   ]
  },
  {
   "cell_type": "markdown",
   "id": "76351d0d",
   "metadata": {},
   "source": [
    "Mostly being used for 2D plotting: it is fast and efficient, you can add many detailed features to it to generate high quality graphs and it has a large community support."
   ]
  },
  {
   "cell_type": "code",
   "execution_count": null,
   "id": "a11f7d75",
   "metadata": {},
   "outputs": [],
   "source": []
  }
 ],
 "metadata": {
  "kernelspec": {
   "display_name": "Python 3",
   "language": "python",
   "name": "python3"
  },
  "language_info": {
   "codemirror_mode": {
    "name": "ipython",
    "version": 3
   },
   "file_extension": ".py",
   "mimetype": "text/x-python",
   "name": "python",
   "nbconvert_exporter": "python",
   "pygments_lexer": "ipython3",
   "version": "3.8.8"
  }
 },
 "nbformat": 4,
 "nbformat_minor": 5
}
