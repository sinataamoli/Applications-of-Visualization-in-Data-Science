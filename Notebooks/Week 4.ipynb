{
 "cells": [
  {
   "cell_type": "markdown",
   "id": "a853cb37",
   "metadata": {},
   "source": [
    "# ===================================\n",
    "# **Applications of Visualization in Data Science**\n",
    "## Fall 2023\n",
    "## Week 4: Object Oriented Programming\n",
    "### Instructor: **Prof. Bahram Mobasher**\n",
    "### Teaching Assistant: Sina Taamoli [**Course Github Page**](https://github.com/sinataamoli/Applications-of-Visualization-in-Data-Science)\n",
    "# ==================================="
   ]
  },
  {
   "cell_type": "code",
   "execution_count": 86,
   "id": "d69d540c",
   "metadata": {},
   "outputs": [],
   "source": [
    "import numpy as np"
   ]
  },
  {
   "cell_type": "code",
   "execution_count": 88,
   "id": "48758190",
   "metadata": {},
   "outputs": [],
   "source": [
    "student1_name = 'John'\n",
    "student1_grade = 3.5\n",
    "student1_year = 3\n",
    "\n",
    "student2_name = 'Sam'\n",
    "student2_grade = 4\n",
    "student2_year = 2"
   ]
  },
  {
   "cell_type": "code",
   "execution_count": 90,
   "id": "2277dd3d",
   "metadata": {},
   "outputs": [],
   "source": [
    "names = [student1_name, student2_name]\n",
    "grades = [student1_grade, student2_grade]\n"
   ]
  },
  {
   "cell_type": "code",
   "execution_count": 91,
   "id": "e82ab854",
   "metadata": {},
   "outputs": [
    {
     "data": {
      "text/plain": [
       "['John', 'Sam']"
      ]
     },
     "execution_count": 91,
     "metadata": {},
     "output_type": "execute_result"
    }
   ],
   "source": [
    "names"
   ]
  },
  {
   "cell_type": "code",
   "execution_count": 92,
   "id": "a93181d2",
   "metadata": {},
   "outputs": [],
   "source": [
    "class Student:\n",
    "    pass"
   ]
  },
  {
   "cell_type": "code",
   "execution_count": 93,
   "id": "d02b4295",
   "metadata": {},
   "outputs": [],
   "source": [
    "student1 = Student()"
   ]
  },
  {
   "cell_type": "markdown",
   "id": "cbd5ac07",
   "metadata": {},
   "source": [
    "### Class \"attributes\""
   ]
  },
  {
   "cell_type": "code",
   "execution_count": 94,
   "id": "325164ce",
   "metadata": {},
   "outputs": [],
   "source": [
    "student1.name = 'John'\n",
    "student1.grade = 3.5\n",
    "student1.year = 3"
   ]
  },
  {
   "cell_type": "code",
   "execution_count": 95,
   "id": "b63efc7e",
   "metadata": {},
   "outputs": [
    {
     "name": "stdout",
     "output_type": "stream",
     "text": [
      "<class '__main__.Student'>\n",
      "<class 'str'>\n",
      "<class 'float'>\n",
      "<class 'int'>\n"
     ]
    }
   ],
   "source": [
    "print(type(student1)) # student\n",
    "print(type(student1.name)) # str\n",
    "print(type(student1.grade)) # float\n",
    "print(type(student1.year)) # int"
   ]
  },
  {
   "cell_type": "markdown",
   "id": "1d243f4c",
   "metadata": {},
   "source": [
    "### Class Methods (functions inside class)"
   ]
  },
  {
   "cell_type": "code",
   "execution_count": 96,
   "id": "b0544d7f",
   "metadata": {},
   "outputs": [],
   "source": [
    "class Student:\n",
    "    def Average(self, grades):\n",
    "        return sum(grades) / len(grades)"
   ]
  },
  {
   "cell_type": "code",
   "execution_count": 97,
   "id": "88d0fb15",
   "metadata": {},
   "outputs": [
    {
     "data": {
      "text/plain": [
       "2.1666666666666665"
      ]
     },
     "execution_count": 97,
     "metadata": {},
     "output_type": "execute_result"
    }
   ],
   "source": [
    "student1 = Student()\n",
    "student1.name = 'John'\n",
    "student1.Average(grades = [1.5, 2, 3])"
   ]
  },
  {
   "cell_type": "markdown",
   "id": "5f256d1e",
   "metadata": {},
   "source": [
    "Classes:<br>\n",
    "* Attributes: variables in the class: [class_name].attribute\n",
    "* Methods: functions inside the class: [class_name].function()"
   ]
  },
  {
   "cell_type": "markdown",
   "id": "6b2ebee8",
   "metadata": {},
   "source": [
    "### Class constructor: Magic method \"\\__init__\" \n"
   ]
  },
  {
   "cell_type": "code",
   "execution_count": 98,
   "id": "e308a854",
   "metadata": {},
   "outputs": [],
   "source": [
    "class Student:\n",
    "    def __init__(self, name, grades, year):   # Constructor. Will be executed automatically\n",
    "        print(\"Adding a student to the list...\")"
   ]
  },
  {
   "cell_type": "code",
   "execution_count": 100,
   "id": "a921958a",
   "metadata": {},
   "outputs": [
    {
     "name": "stdout",
     "output_type": "stream",
     "text": [
      "Adding a student to the list...\n"
     ]
    }
   ],
   "source": [
    "student1 = Student('John', [2, 3], 3)"
   ]
  },
  {
   "cell_type": "code",
   "execution_count": 102,
   "id": "5d1206a4",
   "metadata": {},
   "outputs": [],
   "source": [
    "class Student:\n",
    "    def __init__(self, name, grades, year):   # Constructor. Will be executed automatically\n",
    "        print(\"Adding a student to the list...\")\n",
    "        self.name = name\n",
    "        self.grades = grades\n",
    "        self.year = year\n",
    "\n",
    "\n",
    "    def Average(self, grades):\n",
    "        return sum(grades) / len(grades)"
   ]
  },
  {
   "cell_type": "code",
   "execution_count": 103,
   "id": "f531e87b",
   "metadata": {},
   "outputs": [
    {
     "name": "stdout",
     "output_type": "stream",
     "text": [
      "Adding a student to the list...\n"
     ]
    },
    {
     "data": {
      "text/plain": [
       "('John', [2.5, 3.5, 4], 3)"
      ]
     },
     "execution_count": 103,
     "metadata": {},
     "output_type": "execute_result"
    }
   ],
   "source": [
    "student1 = Student(name = \"John\", grades = [2.5, 3.5, 4], year = 3)\n",
    "\n",
    "student1.name, student1.grades, student1.year"
   ]
  },
  {
   "cell_type": "code",
   "execution_count": 104,
   "id": "565cadf2",
   "metadata": {},
   "outputs": [
    {
     "data": {
      "text/plain": [
       "3.3333333333333335"
      ]
     },
     "execution_count": 104,
     "metadata": {},
     "output_type": "execute_result"
    }
   ],
   "source": [
    "student1.Average([2.5, 3.5, 4])"
   ]
  },
  {
   "cell_type": "code",
   "execution_count": 105,
   "id": "b26df2bd",
   "metadata": {},
   "outputs": [],
   "source": [
    "student1.age = 21"
   ]
  },
  {
   "cell_type": "code",
   "execution_count": 107,
   "id": "20ec9307",
   "metadata": {},
   "outputs": [
    {
     "data": {
      "text/plain": [
       "21"
      ]
     },
     "execution_count": 107,
     "metadata": {},
     "output_type": "execute_result"
    }
   ],
   "source": [
    "student1.age"
   ]
  },
  {
   "cell_type": "code",
   "execution_count": 109,
   "id": "067a7946",
   "metadata": {},
   "outputs": [],
   "source": [
    "class Student:\n",
    "    def __init__(self, name, grades, year):   # Constructor. Will be executed automatically\n",
    "        print(\"Adding a student to the list...\")\n",
    "        self.name = name\n",
    "        self.grades = grades\n",
    "        self.year = year\n",
    "\n",
    "\n",
    "    def Average(self):\n",
    "        return sum(self.grades) / len(self.grades)"
   ]
  },
  {
   "cell_type": "code",
   "execution_count": 110,
   "id": "d6e15a3f",
   "metadata": {},
   "outputs": [
    {
     "name": "stdout",
     "output_type": "stream",
     "text": [
      "Adding a student to the list...\n"
     ]
    },
    {
     "data": {
      "text/plain": [
       "3.3333333333333335"
      ]
     },
     "execution_count": 110,
     "metadata": {},
     "output_type": "execute_result"
    }
   ],
   "source": [
    "student1 = Student(name = \"John\", grades = [2.5, 3.5, 4], year = 3)\n",
    "student1.Average()"
   ]
  },
  {
   "cell_type": "markdown",
   "id": "43aeb0a5",
   "metadata": {},
   "source": [
    "### Validating inputs"
   ]
  },
  {
   "cell_type": "code",
   "execution_count": 113,
   "id": "116a5127",
   "metadata": {},
   "outputs": [],
   "source": [
    "class Student:\n",
    "    def __init__(self, name: str, grades: float, year: int, dropped_unites = 0):   # Constructor. Will be executed automatically\n",
    "        print(\"Adding a student to the list...\")\n",
    "        # Run validations to received arguments\n",
    "        assert year >= 0, f\"'year' argument should be greater than zero\"\n",
    "\n",
    "        # assign to self object\n",
    "        self.name = name\n",
    "        self.grades = grades\n",
    "        self.year = year\n",
    "\n",
    "\n",
    "    def Average(self):\n",
    "        return sum(self.grades) / len(self.grades)"
   ]
  },
  {
   "cell_type": "code",
   "execution_count": 114,
   "id": "4773823f",
   "metadata": {},
   "outputs": [
    {
     "name": "stdout",
     "output_type": "stream",
     "text": [
      "Adding a student to the list...\n"
     ]
    },
    {
     "ename": "AssertionError",
     "evalue": "'year' argument should be greater than zero",
     "output_type": "error",
     "traceback": [
      "\u001b[0;31m---------------------------------------------------------------------------\u001b[0m",
      "\u001b[0;31mAssertionError\u001b[0m                            Traceback (most recent call last)",
      "\u001b[0;32m<ipython-input-114-b965fbbf97f1>\u001b[0m in \u001b[0;36m<module>\u001b[0;34m\u001b[0m\n\u001b[0;32m----> 1\u001b[0;31m \u001b[0mstudent1\u001b[0m \u001b[0;34m=\u001b[0m \u001b[0mStudent\u001b[0m\u001b[0;34m(\u001b[0m\u001b[0;34m\"John\"\u001b[0m\u001b[0;34m,\u001b[0m \u001b[0;34m[\u001b[0m\u001b[0;36m3\u001b[0m\u001b[0;34m,\u001b[0m \u001b[0;36m2\u001b[0m\u001b[0;34m,\u001b[0m \u001b[0;36m3.5\u001b[0m\u001b[0;34m]\u001b[0m\u001b[0;34m,\u001b[0m \u001b[0;34m-\u001b[0m\u001b[0;36m3\u001b[0m\u001b[0;34m)\u001b[0m\u001b[0;34m\u001b[0m\u001b[0;34m\u001b[0m\u001b[0m\n\u001b[0m",
      "\u001b[0;32m<ipython-input-113-c1933d6bc4f2>\u001b[0m in \u001b[0;36m__init__\u001b[0;34m(self, name, grades, year, dropped_unites)\u001b[0m\n\u001b[1;32m      3\u001b[0m         \u001b[0mprint\u001b[0m\u001b[0;34m(\u001b[0m\u001b[0;34m\"Adding a student to the list...\"\u001b[0m\u001b[0;34m)\u001b[0m\u001b[0;34m\u001b[0m\u001b[0;34m\u001b[0m\u001b[0m\n\u001b[1;32m      4\u001b[0m         \u001b[0;31m# Run validations to received arguments\u001b[0m\u001b[0;34m\u001b[0m\u001b[0;34m\u001b[0m\u001b[0;34m\u001b[0m\u001b[0m\n\u001b[0;32m----> 5\u001b[0;31m         \u001b[0;32massert\u001b[0m \u001b[0myear\u001b[0m \u001b[0;34m>=\u001b[0m \u001b[0;36m0\u001b[0m\u001b[0;34m,\u001b[0m \u001b[0;34mf\"'year' argument should be greater than zero\"\u001b[0m\u001b[0;34m\u001b[0m\u001b[0;34m\u001b[0m\u001b[0m\n\u001b[0m\u001b[1;32m      6\u001b[0m \u001b[0;34m\u001b[0m\u001b[0m\n\u001b[1;32m      7\u001b[0m         \u001b[0;31m# assign to self object\u001b[0m\u001b[0;34m\u001b[0m\u001b[0;34m\u001b[0m\u001b[0;34m\u001b[0m\u001b[0m\n",
      "\u001b[0;31mAssertionError\u001b[0m: 'year' argument should be greater than zero"
     ]
    }
   ],
   "source": [
    "student1 = Student(\"John\", [3, 2, 3.5], -3)"
   ]
  },
  {
   "cell_type": "markdown",
   "id": "42447b06",
   "metadata": {},
   "source": [
    "### Adding global attributes (class attributes)"
   ]
  },
  {
   "cell_type": "code",
   "execution_count": 115,
   "id": "1b05499d",
   "metadata": {},
   "outputs": [],
   "source": [
    "class Student:\n",
    "\n",
    "    minimum_GPA = 3 # The minimum acceptable GPA in each semester\n",
    "\n",
    "    def __init__(self, name: str, grades: float, year: int, dropped_unites = 0):   # Constructor. Will be executed automatically\n",
    "        print(\"Adding a student to the list...\")\n",
    "        # Run validations to received arguments\n",
    "        assert year >= 0, f\"'year' argument should be greater than zero\"\n",
    "\n",
    "        # assign to self object\n",
    "        self.name = name\n",
    "        self.grades = grades\n",
    "        self.year = year\n",
    "\n",
    "\n",
    "    def Average(self):\n",
    "        return sum(self.grades) / len(self.grades)"
   ]
  },
  {
   "cell_type": "code",
   "execution_count": 117,
   "id": "9687c6c1",
   "metadata": {},
   "outputs": [
    {
     "name": "stdout",
     "output_type": "stream",
     "text": [
      "Adding a student to the list...\n",
      "Adding a student to the list...\n"
     ]
    },
    {
     "data": {
      "text/plain": [
       "3"
      ]
     },
     "execution_count": 117,
     "metadata": {},
     "output_type": "execute_result"
    }
   ],
   "source": [
    "student1 = Student(\"John\", [3, 2, 3.5], 3)\n",
    "student2 = Student(\"Sam\", [3.5, 2.5, 3.5], 4)\n",
    "\n",
    "student2.minimum_GPA"
   ]
  },
  {
   "cell_type": "markdown",
   "id": "1cb2d16c",
   "metadata": {},
   "source": [
    "### Magic Attribute: \"\\__dict__\""
   ]
  },
  {
   "cell_type": "code",
   "execution_count": 118,
   "id": "80d3b9b2",
   "metadata": {},
   "outputs": [
    {
     "name": "stdout",
     "output_type": "stream",
     "text": [
      "{'name': 'John', 'grades': [3, 2, 3.5], 'year': 3}\n"
     ]
    }
   ],
   "source": [
    "print(student1.__dict__)"
   ]
  },
  {
   "cell_type": "code",
   "execution_count": 119,
   "id": "0bf3ed46",
   "metadata": {},
   "outputs": [],
   "source": [
    "class Student:\n",
    "\n",
    "    minimum_GPA = 3 # The minimum acceptable GPA in each semester\n",
    "\n",
    "    def __init__(self, name: str, grades: float, year: int, dropped_unites = 0):   # Constructor. Will be executed automatically\n",
    "        print(\"Adding a student to the list...\")\n",
    "        # Run validations to received arguments\n",
    "        assert year >= 0, f\"'year' argument should be greater than zero\"\n",
    "\n",
    "        # assign to self object\n",
    "        self.name = name\n",
    "        self.grades = grades\n",
    "        self.year = year\n",
    "\n",
    "\n",
    "    def Average(self):\n",
    "        return sum(self.grades) / len(self.grades)\n",
    "    \n",
    "    def Requirements(self):\n",
    "        if self.Average() > self.minimum_GPA:\n",
    "            print('requirements are satisfied by this student')\n",
    "            print(f'GPA: {self.Average()}')\n",
    "        else:\n",
    "            print('requirements are NOT satisfied by this student')\n",
    "            print(f'GPA: {self.Average()}')"
   ]
  },
  {
   "cell_type": "code",
   "execution_count": 120,
   "id": "98ef3c69",
   "metadata": {},
   "outputs": [
    {
     "name": "stdout",
     "output_type": "stream",
     "text": [
      "Adding a student to the list...\n",
      "requirements are NOT satisfied by this student\n",
      "GPA: 2.8333333333333335\n"
     ]
    }
   ],
   "source": [
    "student1 = Student(\"John\", [3, 2, 3.5], 3)\n",
    "student1.Requirements()"
   ]
  },
  {
   "cell_type": "code",
   "execution_count": 121,
   "id": "fd379121",
   "metadata": {},
   "outputs": [
    {
     "name": "stdout",
     "output_type": "stream",
     "text": [
      "Adding a student to the list...\n",
      "requirements are satisfied by this student\n",
      "GPA: 2.5\n"
     ]
    }
   ],
   "source": [
    "student2 = Student(\"Sam\", [3, 2, 2.5], 4)\n",
    "student2.minimum_GPA = 2\n",
    "student2.Requirements()"
   ]
  },
  {
   "cell_type": "markdown",
   "id": "be30b20e",
   "metadata": {},
   "source": [
    "### A list of all instances that are created so far "
   ]
  },
  {
   "cell_type": "code",
   "execution_count": 124,
   "id": "d6b3b890",
   "metadata": {},
   "outputs": [],
   "source": [
    "class Student:\n",
    "\n",
    "    minimum_GPA = 3 # The minimum acceptable GPA in each semester\n",
    "\n",
    "    list = []\n",
    "\n",
    "    def __init__(self, name: str, grades: float, year: int, dropped_unites = 0):   # Constructor. Will be executed automatically\n",
    "        print(\"Adding a student to the list...\")\n",
    "        # Run validations to received arguments\n",
    "        assert year >= 0, f\"'year' argument should be greater than zero\"\n",
    "\n",
    "        # assign to self object\n",
    "        self.name = name\n",
    "        self.grades = grades\n",
    "        self.year = year\n",
    "\n",
    "        # Actions to execute\n",
    "        Student.list.append(self)\n",
    "\n",
    "    def Average(self):\n",
    "        return sum(self.grades) / len(self.grades)\n",
    "    \n",
    "    def Requirements(self):\n",
    "        if self.Average() > self.minimum_GPA:\n",
    "            print('requirements are satisfied by this student')\n",
    "            print(f'GPA: {self.Average()}')\n",
    "        else:\n",
    "            print('requirements are NOT satisfied by this student')\n",
    "            print(f'GPA: {self.Average()}')"
   ]
  },
  {
   "cell_type": "code",
   "execution_count": 125,
   "id": "713f34c0",
   "metadata": {},
   "outputs": [
    {
     "name": "stdout",
     "output_type": "stream",
     "text": [
      "Adding a student to the list...\n",
      "Adding a student to the list...\n",
      "Adding a student to the list...\n"
     ]
    }
   ],
   "source": [
    "student1 = Student(\"John\", [3, 2, 3.5], 3)\n",
    "student2 = Student(\"Sam\", [3, 2, 2.5], 4)\n",
    "student3 = Student(\"Ann\", [3.5, 2.75, 3.5], 3)"
   ]
  },
  {
   "cell_type": "code",
   "execution_count": 126,
   "id": "6c80afa7",
   "metadata": {},
   "outputs": [
    {
     "name": "stdout",
     "output_type": "stream",
     "text": [
      "[<__main__.Student object at 0x7fb458928be0>, <__main__.Student object at 0x7fb4589289d0>, <__main__.Student object at 0x7fb458928070>]\n"
     ]
    }
   ],
   "source": [
    "print(Student.list)"
   ]
  },
  {
   "cell_type": "code",
   "execution_count": 127,
   "id": "d76484da",
   "metadata": {},
   "outputs": [
    {
     "name": "stdout",
     "output_type": "stream",
     "text": [
      "John\n",
      "Sam\n",
      "Ann\n"
     ]
    }
   ],
   "source": [
    "for instance in Student.list:\n",
    "    print(instance.name)"
   ]
  },
  {
   "cell_type": "markdown",
   "id": "fff2b00a",
   "metadata": {},
   "source": [
    "### \"\\__repr__\" method:"
   ]
  },
  {
   "cell_type": "code",
   "execution_count": 128,
   "id": "ba6182ba",
   "metadata": {},
   "outputs": [],
   "source": [
    "class Student:\n",
    "\n",
    "    minimum_GPA = 3 # The minimum acceptable GPA in each semester\n",
    "\n",
    "    list = []\n",
    "\n",
    "    def __init__(self, name: str, grades: float, year: int, dropped_unites = 0):   # Constructor. Will be executed automatically\n",
    "        print(\"Adding a student to the list...\")\n",
    "        # Run validations to received arguments\n",
    "        assert year >= 0, f\"'year' argument should be greater than zero\"\n",
    "\n",
    "        # assign to self object\n",
    "        self.name = name\n",
    "        self.grades = grades\n",
    "        self.year = year\n",
    "\n",
    "        # Actions to execute\n",
    "        Student.list.append(self)\n",
    "\n",
    "    def Average(self):\n",
    "        return sum(self.grades) / len(self.grades)\n",
    "    \n",
    "    def Requirements(self):\n",
    "        if self.Average() > self.minimum_GPA:\n",
    "            print('requirements are satisfied by this student')\n",
    "            print(f'GPA: {self.Average()}')\n",
    "        else:\n",
    "            print('requirements are NOT satisfied by this student')\n",
    "            print(f'GPA: {self.Average()}')\n",
    "\n",
    "    def __repr__(self):\n",
    "        return f\"Student('{self.name}', {self.grades}, {self.year})\""
   ]
  },
  {
   "cell_type": "code",
   "execution_count": 129,
   "id": "912d146c",
   "metadata": {},
   "outputs": [
    {
     "name": "stdout",
     "output_type": "stream",
     "text": [
      "Adding a student to the list...\n",
      "Adding a student to the list...\n",
      "Adding a student to the list...\n"
     ]
    }
   ],
   "source": [
    "student1 = Student(\"John\", [3, 2, 3.5], 3)\n",
    "student2 = Student(\"Sam\", [3, 2, 2.5], 4)\n",
    "student3 = Student(\"Ann\", [3.5, 2.75, 3.5], 3)"
   ]
  },
  {
   "cell_type": "code",
   "execution_count": 130,
   "id": "13d15d2b",
   "metadata": {},
   "outputs": [
    {
     "data": {
      "text/plain": [
       "\"Student('John', [3, 2, 3.5], 3)\""
      ]
     },
     "execution_count": 130,
     "metadata": {},
     "output_type": "execute_result"
    }
   ],
   "source": [
    "student1.__repr__()"
   ]
  }
 ],
 "metadata": {
  "kernelspec": {
   "display_name": "Python 3",
   "language": "python",
   "name": "python3"
  },
  "language_info": {
   "codemirror_mode": {
    "name": "ipython",
    "version": 3
   },
   "file_extension": ".py",
   "mimetype": "text/x-python",
   "name": "python",
   "nbconvert_exporter": "python",
   "pygments_lexer": "ipython3",
   "version": "3.8.8"
  }
 },
 "nbformat": 4,
 "nbformat_minor": 5
}
